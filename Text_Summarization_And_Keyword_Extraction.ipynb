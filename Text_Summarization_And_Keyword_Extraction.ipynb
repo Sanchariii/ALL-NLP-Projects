{
  "nbformat": 4,
  "nbformat_minor": 0,
  "metadata": {
    "colab": {
      "name": "Text Summarization And Keyword Extraction",
      "provenance": []
    },
    "kernelspec": {
      "name": "python3",
      "display_name": "Python 3"
    },
    "language_info": {
      "name": "python"
    }
  },
  "cells": [
    {
      "cell_type": "code",
      "execution_count": 1,
      "metadata": {
        "id": "g5zZxApQ4NKJ"
      },
      "outputs": [],
      "source": [
        "from gensim.summarization.summarizer import summarize\n",
        "from gensim.summarization import keywords"
      ]
    },
    {
      "cell_type": "code",
      "source": [
        "with open('Story.txt','r') as file:\n",
        "  txt=file.read().replace('\\n',' ')"
      ],
      "metadata": {
        "id": "mkMwztK3PCKY"
      },
      "execution_count": 8,
      "outputs": []
    },
    {
      "cell_type": "markdown",
      "source": [
        "Text Summarization"
      ],
      "metadata": {
        "id": "-8IkgYPIaZua"
      }
    },
    {
      "cell_type": "code",
      "source": [
        "#ratio represents the size of the summarized text to size of actual text\n",
        "#ratio=0.1 -> size of summarized text is 1/10=0.1(10%) of the size of actual text\n",
        "print(summarize(txt,ratio=0.3))"
      ],
      "metadata": {
        "colab": {
          "base_uri": "https://localhost:8080/"
        },
        "id": "rnWcAbOiVgOW",
        "outputId": "1d70a277-08b1-4634-c15c-40ffad495079"
      },
      "execution_count": 9,
      "outputs": [
        {
          "output_type": "stream",
          "name": "stdout",
          "text": [
            "Far out in the sea where the water is very deep, the Sea King ruled the undersea world.\n",
            "The youngest of the four princesses was the Little Mermaid.\n",
            "She spent much of her time swimming to ships that had fallen to the bottom of the sea.\n",
            "The girls knew that when they turned 15, they could swim up to the surface for the first time.\n",
            "It would be a long time that the Little Mermaid had to wait, as she was the youngest!\n",
            "Tales about ships and towns, and every bit of stories about humans that she knew.\n",
            "High above was a deep blue sky with puffy white clouds.\n",
            "Later the sun set, she said, and the whole sky turned gold and red.\n",
            "She had watched the birds fly high above her, dipping and making turns in the red and gold sky.\n",
            "She told of icebergs floating in the sea and shining bright.\n",
            "All the ships stayed far away from the icebergs, she said, as if in fear.\n",
            "All this the Little Mermaid heard with wonder.\n",
            "When she came up over the water, the Little Mermaid was next to a large ship.\n",
            "Now and then as the waves lifted up the Little Mermaid, she could see better.\n",
            "The men all seemed to like that young man.\n",
            "“A crown,” said the Little Mermaid.\n",
            "The poor ship started to tip on the rough waves!\n",
            "It was so dark that the Little Mermaid could see nothing.\n",
            "Then lightning lit up the sky, and she could see the young prince.\n",
            "But then, the waves got high and the ship started to tip over.\n",
            "The Prince was flung to the side of the ship and thrown overboard!\n",
            "What was the Little Mermaid to do?\n",
            "Then she swam up to the surface as fast as she could.\n",
            "There the two of them floated as the waves rose and fell.\n",
            "It was not easy to pull the young man up onto dry sand, but she did it.\n"
          ]
        }
      ]
    },
    {
      "cell_type": "code",
      "source": [
        "#setting the spilt parameter as True we get output in list format not paragraph\n",
        "print(summarize(txt,split=True,ratio=0.5))"
      ],
      "metadata": {
        "id": "nJm6qCUZ5JbW",
        "colab": {
          "base_uri": "https://localhost:8080/"
        },
        "outputId": "90d5c5ac-7a06-42ab-c885-1a8c065489da"
      },
      "execution_count": 11,
      "outputs": [
        {
          "output_type": "stream",
          "name": "stdout",
          "text": [
            "['Far out in the sea where the water is very deep, the Sea King ruled the undersea world.', 'On the roof were shells that opened and closed when the water passed by.', 'The youngest of the four princesses was the Little Mermaid.', 'She spent much of her time swimming to ships that had fallen to the bottom of the sea.', 'The ships held treasures from the world above!', 'The girls knew that when they turned 15, they could swim up to the surface for the first time.', 'It would be a long time that the Little Mermaid had to wait, as she was the youngest!', 'Tales about ships and towns, and every bit of stories about humans that she knew.', 'Soon the eldest sister turned 15.', 'When she came back, she had many wonders to tell her sisters about!', 'High above was a deep blue sky with puffy white clouds.', 'Later the sun set, she said, and the whole sky turned gold and red.', 'She had watched the birds fly high above her, dipping and making turns in the red and gold sky.', 'When the next sister turned 15, it was winter.', 'She told of icebergs floating in the sea and shining bright.', 'All the ships stayed far away from the icebergs, she said, as if in fear.', 'When it was the third sister’s turn, she told about moving as close as she could to the gate of a town.', 'All this the Little Mermaid heard with wonder.', 'At last the day came when she turned 15, too.', 'When she came up over the water, the Little Mermaid was next to a large ship.', 'On the ship beautiful music was playing.', 'Now and then as the waves lifted up the Little Mermaid, she could see better.', 'A handsome young man stepped out on the deck.', 'The men all seemed to like that young man.', 'The men laughed and picked it up.', '“A crown,” said the Little Mermaid.', '“He must be a prince.” Suddenly, it became very dark and the wind picked up.', 'The sailors started to run about on deck.', 'The ship dipped and swooped.', 'The poor ship started to tip on the rough waves!', 'It was so dark that the Little Mermaid could see nothing.', 'Then lightning lit up the sky, and she could see the young prince.', 'But then, the waves got high and the ship started to tip over.', 'The Prince was flung to the side of the ship and thrown overboard!', 'Down into the sea he fell.', 'What was the Little Mermaid to do?', 'She knew that human beings cannot live under the water.', 'Then she swam up to the surface as fast as she could.', 'At last she could pull his head above the water.', 'There the two of them floated as the waves rose and fell.', 'She swam to the shore, pulling him behind her.', 'It was not easy to pull the young man up onto dry sand, but she did it.', 'All of a sudden, the prince started to move.']\n"
          ]
        }
      ]
    },
    {
      "cell_type": "code",
      "source": [
        "#setting the no of words that should be present in the summary\n",
        "print(summarize(txt,word_count=200))"
      ],
      "metadata": {
        "colab": {
          "base_uri": "https://localhost:8080/"
        },
        "id": "U1XHvpU4VvMT",
        "outputId": "405a0782-42c1-4809-a2ce-dd39c0890ca5"
      },
      "execution_count": 14,
      "outputs": [
        {
          "output_type": "stream",
          "name": "stdout",
          "text": [
            "She spent much of her time swimming to ships that had fallen to the bottom of the sea.\n",
            "The girls knew that when they turned 15, they could swim up to the surface for the first time.\n",
            "It would be a long time that the Little Mermaid had to wait, as she was the youngest!\n",
            "Later the sun set, she said, and the whole sky turned gold and red.\n",
            "She had watched the birds fly high above her, dipping and making turns in the red and gold sky.\n",
            "All the ships stayed far away from the icebergs, she said, as if in fear.\n",
            "All this the Little Mermaid heard with wonder.\n",
            "When she came up over the water, the Little Mermaid was next to a large ship.\n",
            "Now and then as the waves lifted up the Little Mermaid, she could see better.\n",
            "“A crown,” said the Little Mermaid.\n",
            "The poor ship started to tip on the rough waves!\n",
            "It was so dark that the Little Mermaid could see nothing.\n",
            "Then lightning lit up the sky, and she could see the young prince.\n",
            "But then, the waves got high and the ship started to tip over.\n",
            "What was the Little Mermaid to do?\n"
          ]
        }
      ]
    },
    {
      "cell_type": "markdown",
      "source": [
        "Keyword Extraction"
      ],
      "metadata": {
        "id": "f7d4WDvDad0a"
      }
    },
    {
      "cell_type": "code",
      "source": [
        "#print the top 5 highest ranked keywords\n",
        "print(keywords(txt,words=5))"
      ],
      "metadata": {
        "colab": {
          "base_uri": "https://localhost:8080/"
        },
        "id": "KonBv3aVO7Wo",
        "outputId": "ba777bd8-97b6-4def-95ce-a913fac217df"
      },
      "execution_count": 10,
      "outputs": [
        {
          "output_type": "stream",
          "name": "stdout",
          "text": [
            "ships\n",
            "ship\n",
            "waves\n",
            "white\n",
            "time\n",
            "king\n"
          ]
        }
      ]
    },
    {
      "cell_type": "code",
      "source": [
        "#using lemmatization the words 'ship' and 'ships' are treated as same words as they have same root word\n",
        "#if we don't define this parameter then by default it is set as False i.e no lemmatization\n",
        "print(keywords(txt,words=5,lemmatize=True))"
      ],
      "metadata": {
        "colab": {
          "base_uri": "https://localhost:8080/"
        },
        "id": "sYs1D4kPWAgE",
        "outputId": "81fa39f1-eb59-42f2-b784-27ec550c7420"
      },
      "execution_count": 15,
      "outputs": [
        {
          "output_type": "stream",
          "name": "stdout",
          "text": [
            "ship\n",
            "waves\n",
            "white\n",
            "king\n",
            "time\n"
          ]
        }
      ]
    }
  ]
}